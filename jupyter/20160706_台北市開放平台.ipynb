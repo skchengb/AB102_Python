{
 "cells": [
  {
   "cell_type": "code",
   "execution_count": 1,
   "metadata": {
    "collapsed": false
   },
   "outputs": [],
   "source": [
    "from __future__ import print_function\n",
    "import sys\n",
    "import requests \n",
    "from bs4 import BeautifulSoup as bs\n",
    "from datetime import date,datetime\n",
    "import json\n",
    "from splinter import Browser\n",
    "import time"
   ]
  },
  {
   "cell_type": "code",
   "execution_count": null,
   "metadata": {
    "collapsed": false
   },
   "outputs": [
    {
     "name": "stdout",
     "output_type": "stream",
     "text": [
      "start ----20160728131851\n"
     ]
    }
   ],
   "source": [
    "i=0\n",
    "\n",
    "print (\"start ----\" + datetime.now().strftime('%Y%m%d')+datetime.now().strftime('%H%M%S'))\n",
    "while True:\n",
    "    try:\n",
    "        i +=1\n",
    "        with open('TRAFFIC/traffic'+datetime.now().strftime('%Y%m%d')+datetime.now().strftime('%H%M%S'),'w') as f:\n",
    "                base_url ='http://data.taipei/opendata/datalist/apiAccess?scope=resourceAquire&rid=5aacba65-afda-4ad5-88f5-6026934140e6'\n",
    "\n",
    "                res=requests.get(base_url)\n",
    "                soup=bs(res.text,'html5lib')\n",
    "                #print (soup.text)\n",
    "                f.write(soup.text.encode('utf-8')+datetime.now().strftime('%Y%m%d')+datetime.now().strftime('%H%M%S'))\n",
    "                \n",
    "\n",
    "                time.sleep(360)\n",
    "                if i<0:\n",
    "                    break\n",
    "    except  IOError as e:\n",
    "        print (e.args[1])\n",
    "\n",
    "    finally:\n",
    "        \n",
    "        f.close()\n",
    "        print (datetime.now().strftime('%Y%m%d')+datetime.now().strftime('%H%M%S'))\n"
   ]
  },
  {
   "cell_type": "code",
   "execution_count": null,
   "metadata": {
    "collapsed": true
   },
   "outputs": [],
   "source": []
  },
  {
   "cell_type": "code",
   "execution_count": null,
   "metadata": {
    "collapsed": true
   },
   "outputs": [],
   "source": []
  },
  {
   "cell_type": "code",
   "execution_count": null,
   "metadata": {
    "collapsed": true
   },
   "outputs": [],
   "source": [
    "import time\n",
    "i = 0\n",
    "sum = 0\n",
    "while True:\n",
    "    i += 1\n",
    "    time.sleep(3)\n",
    "    if i>3:\n",
    "        break\n",
    "    sum += i\n",
    "print(i, sum)"
   ]
  },
  {
   "cell_type": "code",
   "execution_count": null,
   "metadata": {
    "collapsed": false
   },
   "outputs": [],
   "source": [
    "from splinter import Browser\n",
    "\n",
    "\n",
    "with Browser() as browser:\n",
    "    url = \"http://24h.pchome.com.tw/region/DHAA\"\n",
    "    browser.visit(url)\n",
    "    soup = bs(browser.html, 'html5lib')\n",
    "    print (soup)\n",
    "#     mydd = soup.select('#FeaturedProd_List')[0]\n",
    "#     for dd in mydd.select('dd'):\n",
    "#         print(dd.select('h5 a')[0].text)\n",
    "#         print(dd.select('h6')[0].text)\n",
    "\n",
    "\n",
    "    #print(mydd)\n",
    "    "
   ]
  },
  {
   "cell_type": "code",
   "execution_count": null,
   "metadata": {
    "collapsed": false
   },
   "outputs": [],
   "source": [
    "from splinter import Browser\n",
    "from bs4 import BeautifulSoup\n",
    "\n",
    "with Browser() as browser:\n",
    "    url = \"http://www.uefa.com/uefaeuro/season=2016/standings/index.html\"\n",
    "    browser.visit(url)\n",
    "    button = browser.find_by_id('match--control-visibility-2002441')\n",
    "    button.click()\n",
    "    soup = BeautifulSoup(browser.html, 'html5lib')\n",
    "    print(soup)\n"
   ]
  },
  {
   "cell_type": "code",
   "execution_count": null,
   "metadata": {
    "collapsed": false
   },
   "outputs": [],
   "source": [
    "print (\"start ----\" + datetime.now().strftime('%Y%m%d')+datetime.now().strftime('%H%M%S'))\n",
    "while True:\n",
    "    try:\n",
    " \n",
    "        with open('TRAFFIC/traffic'+datetime.now().strftime('%Y%m%d')+datetime.now().strftime('%H%M%S'),'w') as f:\n",
    "                base_url ='http://data.taipei/opendata/datalist/apiAccess?scope=resourceAquire&rid=5aacba65-afda-4ad5-88f5-6026934140e6'\n",
    "\n",
    "                res=requests.get(base_url)\n",
    "                soup=bs(res.text,'html5lib')\n",
    "                #print (soup.text)\n",
    "                f.write(soup.text.encode('utf-8'))\n",
    "                \n",
    "\n",
    "                time.sleep(360)\n",
    "                \n",
    "             \n",
    "                break\n",
    "    except  IOError as e:\n",
    "        print (e.args[1])\n",
    "\n",
    "    finally:\n",
    "        \n",
    "        f.close()\n",
    "        print (datetime.now().strftime('%Y%m%d')+datetime.now().strftime('%H%M%S'))\n"
   ]
  },
  {
   "cell_type": "code",
   "execution_count": null,
   "metadata": {
    "collapsed": false
   },
   "outputs": [],
   "source": []
  },
  {
   "cell_type": "code",
   "execution_count": null,
   "metadata": {
    "collapsed": false
   },
   "outputs": [],
   "source": []
  },
  {
   "cell_type": "code",
   "execution_count": null,
   "metadata": {
    "collapsed": true
   },
   "outputs": [],
   "source": []
  }
 ],
 "metadata": {
  "kernelspec": {
   "display_name": "Python 2",
   "language": "python",
   "name": "python2"
  },
  "language_info": {
   "codemirror_mode": {
    "name": "ipython",
    "version": 2
   },
   "file_extension": ".py",
   "mimetype": "text/x-python",
   "name": "python",
   "nbconvert_exporter": "python",
   "pygments_lexer": "ipython2",
   "version": "2.7.12"
  }
 },
 "nbformat": 4,
 "nbformat_minor": 0
}
